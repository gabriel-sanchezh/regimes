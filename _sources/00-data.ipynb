{
 "cells": [
  {
   "cell_type": "markdown",
   "metadata": {},
   "source": [
    "# Data Preparation"
   ]
  },
  {
   "cell_type": "markdown",
   "metadata": {},
   "source": [
    "## Imports"
   ]
  },
  {
   "cell_type": "code",
   "execution_count": 1,
   "metadata": {},
   "outputs": [],
   "source": [
    "# Import the required libraries\n",
    "import pandas as pd\n",
    "from fractions import Fraction\n",
    "\n",
    "# Create a dictionary called 'g' that will be used to store global variables\n",
    "g = globals()"
   ]
  },
  {
   "cell_type": "markdown",
   "metadata": {},
   "source": [
    "## Data Download"
   ]
  },
  {
   "cell_type": "code",
   "execution_count": 2,
   "metadata": {},
   "outputs": [],
   "source": [
    "# Define lists for variables and countries\n",
    "vars = ['cpi', 'm2', 'mpr', 'er', 'cons', 'ppi', 'ie']\n",
    "countries = ['arg', 'bra', 'chl', 'col', 'cri', 'mex']"
   ]
  },
  {
   "cell_type": "code",
   "execution_count": 3,
   "metadata": {},
   "outputs": [],
   "source": [
    "# Data Preparation - SIE Data (CPI, M2, MPR)\n",
    "\n",
    "sie_columns = {\n",
    "    '[Fecha]':'date',\n",
    "    '[ARGENTINA]':'arg',\n",
    "    '[BRASIL]':'bra',\n",
    "    '[CHILE]':'chl',\n",
    "    '[COLOMBIA]':'col',\n",
    "    '[COSTA RICA]':'cri',\n",
    "    '[MEXICO]':'mex'\n",
    "}\n",
    "\n",
    "sie_vars = ['cpi', 'm2', 'mpr']\n",
    "\n",
    "# Load and preprocess SIE data for each variable\n",
    "for x in sie_vars:\n",
    "    g[x] = pd.read_excel(f'./data/{x}.xlsx', \n",
    "        header=0,\n",
    "        usecols=sie_columns.keys()\n",
    "    ).rename(columns=sie_columns\n",
    "    ).set_index('date').dropna(how='all')\n",
    "    g[x].index = pd.PeriodIndex(g[x].index, freq='M')"
   ]
  },
  {
   "cell_type": "code",
   "execution_count": 4,
   "metadata": {},
   "outputs": [],
   "source": [
    "# Data Preparation - FRED Data (US CPI)\n",
    "uscpi = pd.read_excel('./data/uscpi.xls',\n",
    "        header=10\n",
    ").rename(columns={'observation_date':'date', 'CPIAUCSL':'uscpi'}\n",
    ").set_index('date')\n",
    "uscpi.index = pd.PeriodIndex(uscpi.index, freq='M')"
   ]
  },
  {
   "cell_type": "code",
   "execution_count": 5,
   "metadata": {},
   "outputs": [],
   "source": [
    "# Data Preparation - OECD Data (Exchange Rates)\n",
    "\n",
    "# Load 'oecd_er' data\n",
    "oecd_er = pd.read_csv('./data/er.csv',\n",
    "    usecols=['LOCATION', 'TIME', 'Value']\n",
    ").rename(columns={\n",
    "    'LOCATION':'country', 'TIME':'date', 'Value':'er'}\n",
    ").set_index('date')\n",
    "\n",
    "# Convert the index to a monthly PeriodIndex\n",
    "oecd_er.index = pd.PeriodIndex(oecd_er.index, freq='M')\n",
    "\n",
    "# Create an empty DataFrame 'cons'\n",
    "er = pd.DataFrame()\n",
    "\n",
    "# Extract exchange rates for specified countries\n",
    "for c in countries:\n",
    "    er[c] = oecd_er[oecd_er['country'] == c.upper()]['er'].dropna()"
   ]
  },
  {
   "cell_type": "code",
   "execution_count": 7,
   "metadata": {},
   "outputs": [],
   "source": [
    "# Data Preparation - OECD Data (Consumption)\n",
    "\n",
    "oecd_cons = pd.read_csv('./data/cons2.csv',\n",
    "    usecols=['LOCATION', 'TIME', 'Value', 'Subject', 'MEASURE']\n",
    "    ).rename(columns={\n",
    "    'LOCATION':'country', 'TIME':'date', 'Value':'cons'}\n",
    "    ).set_index('date')\n",
    "\n",
    "oecd_cons = oecd_cons[oecd_cons['Subject']=='Private final consumption expenditure']\n",
    "oecd_cons = oecd_cons[oecd_cons['MEASURE']=='CQR']\n",
    "\n",
    "oecd_cons.drop(columns=['Subject','MEASURE'])\n",
    "\n",
    "oecd_cons.index = pd.PeriodIndex(oecd_cons.index, freq='Q')\n",
    "\n",
    "cons = pd.DataFrame()\n",
    "\n",
    "for c in countries:\n",
    "    cons[c] = oecd_cons[oecd_cons['country'] == c.upper()]['cons'].resample('M').interpolate()"
   ]
  },
  {
   "cell_type": "code",
   "execution_count": 8,
   "metadata": {},
   "outputs": [],
   "source": [
    "# Data Preparation - OECD Data (Inflation Expectations)\n",
    "\n",
    "# Load 'ie_q' data (quarterly)\n",
    "ie_q = pd.read_excel('./data/ie_q.xlsx',\n",
    "    header=1,\n",
    "    usecols=['LOCATION', 'TIME', 'Value']\n",
    ").rename(columns={\n",
    "    'LOCATION':'country', 'TIME':'date', 'Value':'ie'}\n",
    ").set_index('date')\n",
    "\n",
    "# Convert the index to a quarterly PeriodIndex\n",
    "ie_q.index = pd.PeriodIndex(ie_q.index, freq='Q')\n",
    "\n",
    "# Load 'ie_y' data (yearly)\n",
    "ie_y = pd.read_excel('./data/ie_y.xlsx',\n",
    "    header=1,\n",
    "    usecols=['LOCATION', 'TIME', 'Value']\n",
    ").rename(columns={\n",
    "    'LOCATION':'country', 'TIME':'date', 'Value':'ie'}\n",
    ").set_index('date')\n",
    "\n",
    "# Convert the index to a yearly PeriodIndex\n",
    "ie_y.index = pd.PeriodIndex(ie_y.index, freq='Y')\n",
    "\n",
    "# Create an empty DataFrame 'ie'\n",
    "ie = pd.DataFrame()\n",
    "\n",
    "# Interpolate and populate 'ie' DataFrame for specific countries\n",
    "for c in ['mex', 'chl', 'col', 'cri']:\n",
    "    ie[c] = ie_q[ie_q['country'] == c.upper()]['ie'].resample('M').interpolate()\n",
    "\n",
    "for c in ['arg', 'bra']:\n",
    "    ie[c] = ie_y[ie_y['country'] == c.upper()]['ie'].resample('M').interpolate()"
   ]
  },
  {
   "cell_type": "code",
   "execution_count": 9,
   "metadata": {},
   "outputs": [],
   "source": [
    "# Data Preparation - Producer Prices Index (PPI)\n",
    "\n",
    "# Load PPI data for 'arg' and 'bra'\n",
    "for c in ['arg', 'bra']:\n",
    "    g[f'ppi_{c}'] = pd.read_excel('./data/ppi.xlsx',\n",
    "        sheet_name=c,\n",
    "        usecols=['Date', 'index']\n",
    "    ).rename(columns={'Date': 'date', 'index': 'ppi'}\n",
    "    ).set_index('date')\n",
    "\n",
    "    g[f'ppi_{c}'].index = pd.PeriodIndex(g[f'ppi_{c}'].index, freq='M')\n",
    "\n",
    "# Load OECD PPI data\n",
    "oecd_ppi = pd.read_csv('./data/oecd_ppi.csv',\n",
    "    usecols=['LOCATION', 'TIME', 'Value']\n",
    ").rename(columns={\n",
    "    'LOCATION': 'country', 'TIME': 'date', 'Value': 'ppi'}\n",
    ").set_index('date')\n",
    "\n",
    "oecd_ppi.index = pd.PeriodIndex(oecd_ppi.index, freq='M')\n",
    "\n",
    "# Load OECD PPI data for 'chl'\n",
    "ppi_chl = pd.read_csv('./data/oecd_ppi_chl.csv',\n",
    "    usecols=['LOCATION', 'TIME', 'Value']\n",
    ").rename(columns={\n",
    "    'LOCATION': 'country', 'TIME': 'date', 'Value': 'ppi'}\n",
    ").set_index('date')\n",
    "\n",
    "ppi_chl.index = pd.PeriodIndex(ppi_chl.index, freq='M')\n",
    "\n",
    "# Create an empty DataFrame 'ppi'\n",
    "ppi = pd.DataFrame()\n",
    "\n",
    "# Populate 'ppi' DataFrame for specific countries\n",
    "for c in ['arg', 'bra']:\n",
    "    ppi[c] = g[f'ppi_{c}']['ppi']\n",
    "\n",
    "for c in ['col', 'cri', 'mex']:\n",
    "    ppi[c] = oecd_ppi[oecd_ppi['country'] == c.upper()]['ppi']\n",
    "\n",
    "ppi['chl'] = ppi_chl['ppi']"
   ]
  },
  {
   "cell_type": "code",
   "execution_count": 10,
   "metadata": {},
   "outputs": [],
   "source": [
    "# Combine and Organize Data\n",
    "data = pd.concat([cpi, m2, mpr, er, cons, ppi, ie], keys=vars)\n",
    "\n",
    "# Create DataFrames for each country (df_)\n",
    "for c in countries:\n",
    "    g[f'df_{c}'] = pd.DataFrame()\n",
    "    \n",
    "    # Populate DataFrames with selected variables and 'uscpi'\n",
    "    for v in vars:\n",
    "        g[f'df_{c}'][v] = data[c][v].dropna()\n",
    "\n",
    "    # Add 'uscpi' to the DataFrame\n",
    "    g[f'df_{c}']['uscpi'] = uscpi['uscpi']"
   ]
  },
  {
   "cell_type": "code",
   "execution_count": 11,
   "metadata": {},
   "outputs": [],
   "source": [
    "# Create modified DataFrames for each country (dfm_)\n",
    "for c in countries:\n",
    "    g[f'dfm_{c}'] = pd.DataFrame()\n",
    "    \n",
    "    # Calculate and populate various variables in 'dfm_'\n",
    "    \n",
    "    # Modification 1: 'cpi' -> Inflation shift\n",
    "    g[f'dfm_{c}']['cpi'] = (\n",
    "        ((g[f'df_{c}']['cpi'].dropna().pct_change(12) + 1) -\n",
    "        (g[f'df_{c}']['cpi'].dropna().pct_change(36) + 1)**(Fraction(1/3))\n",
    "        ) * 100\n",
    "    ).dropna()\n",
    "    \n",
    "    # Modification 2: 'm2' -> 3-year change (%)\n",
    "    g[f'dfm_{c}']['m2'] = (\n",
    "        g[f'df_{c}']['m2'].dropna().pct_change(36)\n",
    "    ).dropna()\n",
    "    \n",
    "    # Modification 3: 'mpr' -> 1-year difference\n",
    "    g[f'dfm_{c}']['mpr'] = (\n",
    "        g[f'df_{c}']['mpr'].dropna().diff(12)\n",
    "    ).dropna()\n",
    "    \n",
    "    # Modification 4: 'uscpi' -> 1-year change (%)\n",
    "    g[f'dfm_{c}']['uscpi'] = (\n",
    "        g[f'df_{c}']['uscpi'].dropna().pct_change(12).dropna() * 100\n",
    "    )\n",
    "    \n",
    "    # Modification 5: 'er' -> 1-year change (%)\n",
    "    g[f'dfm_{c}']['er'] = (\n",
    "        g[f'df_{c}']['er'].dropna().pct_change(12)\n",
    "    ).dropna()\n",
    "    \n",
    "    # Modification 6: 'cons' -> 1-year change (%)\n",
    "    g[f'dfm_{c}']['cons'] = (\n",
    "        g[f'df_{c}']['cons'].dropna().pct_change(12).dropna() * 100\n",
    "    )\n",
    "    \n",
    "    # Modification 7: 'ppi' -> 1-year change (%)\n",
    "    g[f'dfm_{c}']['ppi'] = (\n",
    "        g[f'df_{c}']['ppi'].dropna().pct_change(12).dropna() * 100\n",
    "    )\n",
    "    \n",
    "    # Modification 8: 'ie' -> 1-year difference\n",
    "    g[f'dfm_{c}']['ie'] = (\n",
    "        g[f'df_{c}']['ie'].dropna().diff(12).dropna()\n",
    "    )\n",
    "    \n",
    "    # Select a time range ('2020-01' to '2022-12')\n",
    "    g[f'dfm_{c}'] = g[f'dfm_{c}']['2020-01':'2022-12']"
   ]
  },
  {
   "cell_type": "code",
   "execution_count": null,
   "metadata": {},
   "outputs": [],
   "source": [
    "#Final adjustments of missing values\n",
    "\n",
    "dfm_bra['ppi'].fillna(dfm_bra['ppi'].dropna().median(), inplace=True)\n",
    "dfm_col['m2']['2022-12'] = dfm_col['m2']['2020-01':'2022-11'].median()\n",
    "dfm_mex['m2']['2022-12'] = dfm_mex['m2']['2020-01':'2022-11'].median()"
   ]
  },
  {
   "cell_type": "code",
   "execution_count": 14,
   "metadata": {},
   "outputs": [],
   "source": [
    "# Create an ExcelWriter object for a master dfm\n",
    "with pd.ExcelWriter('./data/dfm.xlsx', engine='xlsxwriter') as writer:\n",
    "    for c in countries:\n",
    "    # Save each DataFrame to a separate sheet\n",
    "        g[f'dfm_{c}'].to_excel(writer, sheet_name=c)"
   ]
  }
 ],
 "metadata": {
  "kernelspec": {
   "display_name": "Python 3.8.5 ('base')",
   "language": "python",
   "name": "python3"
  },
  "language_info": {
   "codemirror_mode": {
    "name": "ipython",
    "version": 3
   },
   "file_extension": ".py",
   "mimetype": "text/x-python",
   "name": "python",
   "nbconvert_exporter": "python",
   "pygments_lexer": "ipython3",
   "version": "3.8.5"
  },
  "orig_nbformat": 4,
  "vscode": {
   "interpreter": {
    "hash": "191aef6363f25eb9a93958b0fdae80b023bc5b8bb7ea10929d0596442eac0af6"
   }
  }
 },
 "nbformat": 4,
 "nbformat_minor": 2
}
