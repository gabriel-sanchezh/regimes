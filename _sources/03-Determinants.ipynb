{
 "cells": [
  {
   "cell_type": "markdown",
   "metadata": {},
   "source": [
    "# The Determinants of Inflation"
   ]
  },
  {
   "cell_type": "markdown",
   "metadata": {},
   "source": [
    "The objective of this section is to evaluate how the most relevant economic factors influence the abnormal shifts in Latin America over the last three years, although I do not try to assert which economic theory is more accurate. Then, I review the methods I use to measure their influence and dynamics over the 2020-2022 period."
   ]
  },
  {
   "cell_type": "markdown",
   "metadata": {},
   "source": [
    "## Preliminaries"
   ]
  },
  {
   "cell_type": "markdown",
   "metadata": {},
   "source": [
    "First, it is necessary to import some libraries."
   ]
  },
  {
   "cell_type": "code",
   "execution_count": 17,
   "metadata": {
    "tags": [
     "hide-input",
     "remove-output"
    ]
   },
   "outputs": [],
   "source": [
    "import pandas as pd\n",
    "import numpy as np\n",
    "import matplotlib.pyplot as plt\n",
    "\n",
    "g = globals()"
   ]
  },
  {
   "cell_type": "markdown",
   "metadata": {},
   "source": [
    "I'll use a `ggplot` theme for the graphs in this notebook."
   ]
  },
  {
   "cell_type": "code",
   "execution_count": 2,
   "metadata": {
    "tags": [
     "remove-output",
     "hide-input"
    ]
   },
   "outputs": [
    {
     "name": "stdout",
     "output_type": "stream",
     "text": [
      "fatal: destination path 'bw' already exists and is not an empty directory.\n"
     ]
    }
   ],
   "source": [
    "!git clone https://gist.github.com/markusdumke/572e2a8546c54b322b48c0c792799b77 bw\n",
    "theme_bw = './bw/theme_bw.mplstyle'\n",
    "plt.style.use(theme_bw)"
   ]
  },
  {
   "cell_type": "markdown",
   "metadata": {},
   "source": [
    "I have the modified data frames, as created in the [Data Preparation](./00-data.ipynb) section."
   ]
  },
  {
   "cell_type": "code",
   "execution_count": 9,
   "metadata": {
    "tags": [
     "hide-input",
     "remove-output"
    ]
   },
   "outputs": [],
   "source": [
    "countries = {'arg':'Argentina',\n",
    "            'bra':'Brazil',\n",
    "            'chl':'Chile',\n",
    "            'col':'Colombia',\n",
    "            'cri':'Costa Rica',\n",
    "            'mex':'Mexico'\n",
    "            }\n",
    "\n",
    "vars = ['cpi','m2','mpr','uscpi','er','cons','ppi','ie']\n",
    "\n",
    "for c in countries:\n",
    "    g[f'dfm_{c}'] = pd.read_excel('./data/dfm.xlsx',\n",
    "        sheet_name=c,\n",
    "        index_col = 'date')\n",
    "\n",
    "vars.remove('cpi')"
   ]
  },
  {
   "cell_type": "markdown",
   "metadata": {},
   "source": [
    "## What Leads to Inflation?"
   ]
  },
  {
   "cell_type": "markdown",
   "metadata": {},
   "source": [
    "From *only money matters* to *rational expectations*, there exists a great variety of macroeconomic arguments[^totonchi] around the causes of inflation in both the short and long run. Table [2](tab-variables) provides a summary of the variables I used.\n",
    "\n",
    "[^totonchi]: See {cite}`totonchi2011`."
   ]
  },
  {
   "cell_type": "markdown",
   "metadata": {},
   "source": [
    "Modern economies have central banks that can directly set the quantity of currency in circulation. Moreover, it seems to be that money growth and the rate of increase in prices move together over long periods of time[^gls], being the excessive money growth over output growth one of the most adopted thesis on the causes of inflation in the long run. The first monetary policy variable I use, which are denoted by `MP` in Table [2](tab-variables), is money supply in the form of a three-year change. In the same way, modern central banks raise the official (nominal) interest rate when high inflation affect the economy. In this manner, I assume a Neo-Fisherianism viewpoint, in which the real interest rate is independent of monetary factors, and so the nominal interest rates and inflation move in the same direction, and MPRs are used as instruments to affect the price levels.\n",
    "\n",
    "[^gls]: See {cite}`gls2020`."
   ]
  },
  {
   "cell_type": "markdown",
   "metadata": {},
   "source": [
    "The second group of variables corresponds to international factors `(IF)`, which take into account United States' inflation as well as nominal exchange rates. The first indicator is important due to the strong economic relationships between Latin American countries and the US, and because the 2020-2022 period was characterized by worldwide increases in prices. The national exchange rate to $\\$1$ is implemented based on pass-through theory, which argues that a country's rate of inflation is more robustly affected by exchange rate fluctuations when the country widely depends on imports."
   ]
  },
  {
   "cell_type": "markdown",
   "metadata": {},
   "source": [
    "Private consumption is taken into account due to demand-pull theory `(DP)`; that is, increases in aggregate demand that generate inflation pressures due to this being larger than the aggregate supply at full employment levels. In contrast, cost-push theory `(CP)` proposes that rises in the cost of production commodities impulse inflation rates, hence the Producer Price Index is included. Finally, inflation expectations `(IE)` fit in the analysis in behalf of the Rational Expectations revolution of 1970s, which recognises that economic agents generate expectations based on past and current information, and take into account these expectations when making their decisions."
   ]
  },
  {
   "cell_type": "markdown",
   "metadata": {},
   "source": [
    "```{table} Theories and Variables\n",
    ":name: tab-variables\n",
    "\n",
    "| Theory                 | Variable | Data                                | Measure       |\n",
    "|------------------------|----------|-------------------------------------|---------------|\n",
    "| Monetary Policy        | m2       | M2                                  | 3y change     |\n",
    "|                        | mpr      | Policy-Related Interest Rates       | 1y difference |\n",
    "| International Factors  | usacpi   | Consumer Price Index                | 1y change     |\n",
    "|                        | er       | Nominal Exchange Rate to 1          | 1y change     |\n",
    "| Demand Pull            | cons     | Household's Consumption Expenditure | 1y change     |\n",
    "| Cost Push              | ppi      | Producer Prices Index               | 1y change     |\n",
    "| Inflation Expectations | ie       | Inflation Expectations              | 1y difference |\n",
    "```"
   ]
  },
  {
   "cell_type": "markdown",
   "metadata": {},
   "source": [
    "## Influence Method"
   ]
  },
  {
   "cell_type": "markdown",
   "metadata": {},
   "source": [
    "Subsequently, an attribution methodology based on the Mahalanobis distance will be used to examine the influence of the variables that were presented before. The Mahalanobis distance[^mahalanobis] is a measure of divergence between groups in terms of multiple characteristics[^mclachlan]. Another way to introduce it is with variability: due to the positive or negative relation that multivariate data could show, the Mahalanobis approach assigns a larger distance to those observations that are not only further away from their means, as Euclidean distances would do, but to points from the sample that show a larger variability. The application used in this paper is based on {cite}`kinlaw2022`, in which the authors compute this distance to analyse inflationary regimes in the United States. Let the Mahalanobis distance for country $c$ at time $t$ from regime $r$ be denoted as $\\delta_{c,t,r}$:\n",
    "\n",
    "$$\n",
    "\\delta_{c,t,r}=\n",
    "    \\left(x_{c,t}-\\mu_{c,r}\\right)^{T}\n",
    "    S_{c,r}^{-1}\n",
    "    \\left(x_{c,t}-\\mu_{c,r}\\right)\n",
    "$$ (eq-mah)\n",
    "\n",
    "[^mahalanobis]: Developed in {cite}`mahalanobis1936`.\n",
    "[^mclachlan]: See {cite}`mclachlan1999`."
   ]
  },
  {
   "cell_type": "code",
   "execution_count": 10,
   "metadata": {
    "tags": [
     "remove-output",
     "hide-input"
    ]
   },
   "outputs": [],
   "source": [
    "n_states = 4\n",
    "for c in countries:\n",
    "    for r in range(n_states):\n",
    "        #Variance-covariance matrices and mean vectors\n",
    "        if g[f'dfm_{c}'][g[f'dfm_{c}']['predicted']==r].empty == False:\n",
    "            g[f'S_{c}_{r}'] = pd.DataFrame(np.cov(g[f'dfm_{c}'][g[f'dfm_{c}']['predicted']==r][vars].T),\n",
    "                                            columns=vars,\n",
    "                                            index=vars)\n",
    "\n",
    "            g[f'μ_{c}_{r}'] = g[f'dfm_{c}'][g[f'dfm_{c}']['predicted']==r][vars].mean()\n",
    "\n",
    "        else:\n",
    "            g[f'S_{c}_{r}'] = pd.DataFrame(np.cov(g[f'dfm_{c}'][vars].T),\n",
    "                                            columns=vars,\n",
    "                                            index=vars)\n",
    "\n",
    "            g[f'μ_{c}_{r}'] = g[f'dfm_{c}'][vars].mean()\n",
    "\n",
    "        for t in range(len(g[f'dfm_{c}'])):\n",
    "            if np.linalg.det(g[f'S_{c}_{r}']) != 0:\n",
    "                g[f'ẟ_{c}_{t}_{r}'] = (g[f'dfm_{c}'][vars].iloc[t]-g[f'μ_{c}_{r}']\n",
    "                                )@np.linalg.inv(g[f'S_{c}_{r}']\n",
    "                                )@(g[f'dfm_{c}'][vars].iloc[t]-g[f'μ_{c}_{r}'])\n",
    "\n",
    "            else:\n",
    "                g[f'ẟ_{c}_{t}_{r}'] = (g[f'dfm_{c}'][vars].iloc[t]-g[f'μ_{c}_{r}']\n",
    "                                )@np.linalg.inv(np.cov(g[f'dfm_{c}'][vars].T)\n",
    "                                )@(g[f'dfm_{c}'][vars].iloc[t]-g[f'μ_{c}_{r}'])"
   ]
  },
  {
   "cell_type": "markdown",
   "metadata": {},
   "source": [
    "Where, for a specific country $c$, $x_{c,t}$ is a vector that contains the observations of the variables at time $t$; $\\mu_{c,r}$ a vector that has the means of these variables for a certain regime $r$; and, $S^{-1}_{c,r}$ the inverse of the symmetric and positive semi-definite variance-covariance matrix of variables in regime $r$. The superscript $T$ the transpose of a matrix, and the result is a scalar. Next, the distance of Equation [3](eq-mah) is converted into a statistical likelihood according to a normal distribution, as follows:\n",
    "\n",
    "$$\n",
    "   L_{c,t,r} = \n",
    "    \\frac{1}{\\sqrt{det\\left(2\\pi S_{c,r}\\right)}}\n",
    "    exp \\left( \\frac{-\\delta_{c,t,r}}{2}\\right)\n",
    "$$ (eq-likelihood)"
   ]
  },
  {
   "cell_type": "code",
   "execution_count": 11,
   "metadata": {
    "tags": [
     "hide-input",
     "remove-output"
    ]
   },
   "outputs": [
    {
     "name": "stderr",
     "output_type": "stream",
     "text": [
      "/var/folders/rt/qhl8_0ld1rs4tqkb8syqwn7h0000gn/T/ipykernel_40752/1095699689.py:4: RuntimeWarning: overflow encountered in exp\n",
      "  if np.linalg.det(2*np.pi*g[f'S_{c}_{r}']) <= 0 or np.isinf(np.exp(-g[f'ẟ_{c}_{t}_{r}']/2)) == True:\n"
     ]
    }
   ],
   "source": [
    "for c in countries:\n",
    "    for r in range(n_states):\n",
    "        for t in range(len(g[f'dfm_{c}'])):\n",
    "            if np.linalg.det(2*np.pi*g[f'S_{c}_{r}']) <= 0 or np.isinf(np.exp(-g[f'ẟ_{c}_{t}_{r}']/2)) == True:\n",
    "                g[f'L_{c}_{t}_{r}'] = 0\n",
    "            else:\n",
    "                g[f'L_{c}_{t}_{r}'] = (1/np.sqrt(np.linalg.det(2*np.pi*g[f'S_{c}_{r}']))\n",
    "                                    )*np.exp((-g[f'ẟ_{c}_{t}_{r}']/2))"
   ]
  },
  {
   "cell_type": "markdown",
   "metadata": {},
   "source": [
    "In Equation [4](eq-likelihood), $S_{c,r}$ is the variance-covariance matrix of the variables of country $c$ in regime $r$. Afterwards, the likelihood has to be rescaled to be interpreted as a probability. Let the probability of country $c$ at time $t$ to be in regime $r$ be denoted as $\\rho_{c,t,r}$:\n",
    "\n",
    "$$\n",
    "  \\rho_{c,t,r}=\\frac{L_{c,t,r}}{\\sum_{\\text{all regimes r}}} L_{c,t,r}\n",
    "$$ (eq-rho)"
   ]
  },
  {
   "cell_type": "code",
   "execution_count": 12,
   "metadata": {
    "tags": [
     "hide-input",
     "remove-output"
    ]
   },
   "outputs": [],
   "source": [
    "for c in countries:\n",
    "    for r in range(n_states):\n",
    "        for t in range(len(g[f'dfm_{c}'])):\n",
    "            g[f'ρ_{c}_{t}_{r}'] = g[f'L_{c}_{t}_{r}'] / sum(g[f'L_{c}_{t}_{j}'] for j in range(n_states))"
   ]
  },
  {
   "cell_type": "markdown",
   "metadata": {},
   "source": [
    "Next, in order to determine the importance of the variables I compute the derivative of the composite function[^chainrule] of Equation [5](eq-rho) with respect to the variables vector $x_{c,t}$. For a specific regime $i$, this derivative corresponds to:\n",
    "\n",
    "$$\n",
    "\\frac{\\partial \\rho_{c,t,i}}{\\partial x_{c,t}}=\n",
    "    \\rho_{c,t,i}\n",
    "    \\left[\n",
    "    \\left(\n",
    "    \\sum_{\\text{all regimes r}}\\rho_{c,t,r}\n",
    "    \\frac{\\partial \\delta_{c,t,r}}{\\partial x_{c,t}}\n",
    "    \\right)\n",
    "    -\\frac{\\partial \\delta_{c,t,i}}{\\partial x_{c,t}}\n",
    "    \\right]\n",
    "$$ (eq-derivative)\n",
    "\n",
    "[^chainrule]: Using the chain rule: $\\dfrac{\\partial \\rho_{c,t,r}}{\\partial L_{c,t,r}} \\dfrac{\\partial L_{c,t,r}}{\\partial \\delta_{c,t,r}} \\dfrac{\\partial \\delta_{c,t,r}}{\\partial x_{c,t}}$"
   ]
  },
  {
   "cell_type": "code",
   "execution_count": 13,
   "metadata": {
    "tags": [
     "hide-input",
     "remove-output"
    ]
   },
   "outputs": [],
   "source": [
    "for c in countries:\n",
    "    for r in range(n_states):\n",
    "        for t in range(len(g[f'dfm_{c}'])):\n",
    "            if np.linalg.det(g[f'S_{c}_{r}']) != 0:\n",
    "                g[f'dx_{c}_{t}_{r}'] = np.linalg.inv(g[f'S_{c}_{r}'])@(\n",
    "                    (g[f'dfm_{c}'][vars].iloc[t]-g[f'μ_{c}_{r}'])\n",
    "                    )\n",
    "            else: \n",
    "                g[f'dx_{c}_{t}_{r}'] = np.linalg.inv(np.cov(g[f'dfm_{c}'][vars].T))@(\n",
    "                    (g[f'dfm_{c}'][vars].iloc[t]-g[f'μ_{c}_{r}'])\n",
    "                    )\n",
    "            \n",
    "            g[f'dρdx_{c}_{t}_{r}'] = g[f'ρ_{c}_{t}_{r}']*(\n",
    "                    sum( g[f'ρ_{c}_{t}_{r}']*g[f'dx_{c}_{t}_{r}'] for j in range(n_states))\n",
    "                    -g[f'dx_{c}_{t}_{r}']\n",
    "                    )"
   ]
  },
  {
   "cell_type": "markdown",
   "metadata": {},
   "source": [
    "Equation [6](eq-derivative) is a derivative with respect to the variables vector, meaning that the output is also a vector and it represents the sensitivity of regime $r$ to the variables of the model. Having four regimes, and with the objective of obtaining the total sensitivity of the variables, I take an average[^avg] across regimes:\n",
    "\n",
    "$$\n",
    "    \\zeta_{c,t}=\n",
    "    \\frac{1}{4}\n",
    "    \\sum_{\\text{all regimes r}}\n",
    "    \\left\\lvert\n",
    "    \\frac{\\partial \\rho_{c,t,r}}{\\partial x_{c,t}}\n",
    "    \\right\\rvert\n",
    "$$ (eq-sens)\n",
    "\n",
    "[^avg]: Because of Equation [5](eq-rho), the average will sum to one. Hence, the average of the absolute values is computed."
   ]
  },
  {
   "cell_type": "code",
   "execution_count": 14,
   "metadata": {
    "tags": [
     "hide-input",
     "remove-output"
    ]
   },
   "outputs": [],
   "source": [
    "for c in countries:\n",
    "    for t in range(len(g[f'dfm_{c}'])):\n",
    "        g[f'𝛇_{c}_{t}'] = (1/n_states)*sum(abs(g[f'dρdx_{c}_{t}_{j}']) for j in range(n_states))"
   ]
  },
  {
   "cell_type": "markdown",
   "metadata": {},
   "source": [
    "In here, $\\zeta_{c,t}$ denotes the total sensitivity vector of the variables of country $c$ at a specific point in time $t$. Finally, rescaling Equation [7](eq-sens) with the standard deviations of the full sample allows to obtain the relative importance vector of country $c$ at a given point in time $t$:\n",
    "\n",
    "$$\n",
    "    \\psi_{c,t} = \\frac{\\zeta_{c,t}\\sigma_{c}}\n",
    "    {\\sum_{\\text{all variables v}}\\left\\lvert\n",
    "    \\zeta_{c,t}\\sigma_{c}\\right\\rvert}\n",
    "$$ (eq-totalsens)"
   ]
  },
  {
   "cell_type": "code",
   "execution_count": 15,
   "metadata": {
    "tags": [
     "hide-input",
     "remove-output"
    ]
   },
   "outputs": [],
   "source": [
    "for c in countries:\n",
    "    g[f'ir_{c}'] = pd.DataFrame()\n",
    "    for t in range(len(g[f'dfm_{c}'])):\n",
    "        g[f'𝜓_{c}_{t}'] = g[f'𝛇_{c}_{t}']*np.std(g[f'dfm_{c}'][vars]) / (\n",
    "            sum(g[f'𝛇_{c}_{t}']*np.std(g[f'dfm_{c}'][vars]))\n",
    "            )\n",
    "\n",
    "        g[f'ir_{c}'][t] = g[f'𝜓_{c}_{t}']\n",
    "\n",
    "    g[f'ir_{c}']=(g[f'ir_{c}']*100).T.set_index(g[f'dfm_{c}'].index)"
   ]
  },
  {
   "cell_type": "code",
   "execution_count": 16,
   "metadata": {
    "tags": [
     "hide-input",
     "remove-output"
    ]
   },
   "outputs": [],
   "source": [
    "with pd.ExcelWriter('./data/ir.xlsx', engine='xlsxwriter') as writer:\n",
    "    for c in countries:\n",
    "        g[f'ir_{c}'].to_excel(writer, sheet_name=c)"
   ]
  }
 ],
 "metadata": {
  "kernelspec": {
   "display_name": "Python 3.8.5 ('base')",
   "language": "python",
   "name": "python3"
  },
  "language_info": {
   "codemirror_mode": {
    "name": "ipython",
    "version": 3
   },
   "file_extension": ".py",
   "mimetype": "text/x-python",
   "name": "python",
   "nbconvert_exporter": "python",
   "pygments_lexer": "ipython3",
   "version": "3.8.5"
  },
  "orig_nbformat": 4,
  "vscode": {
   "interpreter": {
    "hash": "191aef6363f25eb9a93958b0fdae80b023bc5b8bb7ea10929d0596442eac0af6"
   }
  }
 },
 "nbformat": 4,
 "nbformat_minor": 2
}
